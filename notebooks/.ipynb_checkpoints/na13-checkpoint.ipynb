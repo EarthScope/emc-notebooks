{
 "cells": [
  {
   "cell_type": "code",
   "execution_count": 1,
   "metadata": {},
   "outputs": [],
   "source": [
    "import numpy as np\n",
    "import xarray as xr"
   ]
  },
  {
   "cell_type": "code",
   "execution_count": 2,
   "metadata": {},
   "outputs": [],
   "source": [
    "depths = [70, 90, 110, 130, 150, 170, 190, 210, 230, 250, 280, 320, 370, 420, 470, 520, 570, 620, 670, 720, 770, 820, 870, 920, 970, 1020, 1070, 1130, 1200]   # km\n",
    "ndepths = len(depths)\n",
    "\n",
    "step = 0.25  # degrees\n",
    "\n",
    "maxa=85\n",
    "mina=10\n",
    "\n",
    "mino=-170\n",
    "maxo=-50\n",
    "\n",
    "nlons = int(np.rint((maxo-mino)/step)) + 1\n",
    "nlats = int(np.rint((maxa-mina)/step)) + 1\n"
   ]
  },
  {
   "cell_type": "code",
   "execution_count": 4,
   "metadata": {},
   "outputs": [],
   "source": [
    "metadata = {\n",
    "'title':'NA13: S-velocity model of the North American mantle based on regional wavetrain fits and teleseismic delay times',\n",
    "'id':'NA13',\n",
    "'summary':'3D model estimated from and teleseismic delay time measurements of X. Lou (EPSL 402, 2014, doi:10.1016/j.epsl.2013.11.056) and waveform fits from H. Bedle and S. van der Lee',\n",
    "'keywords':['waveform','teleseismic','tomography','S velocity', 'Rayleigh', 'North America','USArray', 'EarthScope'],\n",
    "'acknowledgement':'Model developed at Northwestern University and provided by Xiaoting Lou, Heather Bedle, Suzan van der Lee',\n",
    "'history':'converted to netCDF from native format by constructing xarray objects in Python and using the xarray.Dataset.to_netcdf() method on 28 Sep 2021',\n",
    "'geospatial_lat_min':mina,\n",
    "'geospatial_lat_max':maxa,\n",
    "'geospatial_lon_min':mino,\n",
    "'geospatial_lon_max':maxo,\n",
    "'geospatial_lat_resolution':step,\n",
    "'geospatial_lon_resolution':step,\n",
    "'geospatial_lat_units':'degrees',\n",
    "'geospatial_lon_units':'degrees',\n",
    "'geospatial_vertical_min':70,\n",
    "'geospatial_vertical_max':1200,\n",
    "'geospatial_vertical_units':'km',\n",
    "'geospatial_vertical_positive':'down',\n",
    "'netcdf_file':'NA13.nc',\n",
    "'reference':'Bedle, Lou, and Van der Lee (2021)',\n",
    "'author_name':'Lou & Bedle',\n",
    "'author_email':'hbedle@ou.edu',\n",
    "'author_institution':'University of Oklahoma',\n",
    "'repository_name':'EMC',\n",
    "'repository_institution':'IRIS DMC',\n",
    "'vs_units':'km/s',\n",
    "'dvs_units':'%',\n",
    "'vs_long_name':'S velocity in km/s',\n",
    "'dvs_long_name':'S velocity in % change from iaspei91 model',\n",
    "'1D_reference_model':'IASP'\n",
    "}"
   ]
  },
  {
   "cell_type": "code",
   "execution_count": 5,
   "metadata": {},
   "outputs": [],
   "source": [
    "v3grid = np.zeros((ndepths,nlats,nlons))\n",
    "k = 0\n",
    "for depth in depths:\n",
    "    zfile = 'zr'+str(depth)\n",
    "    longitudes, latitudes, values = np.loadtxt(zfile,unpack=True)\n",
    "    for o,a,v in zip(longitudes, latitudes, values):\n",
    "        i = int(np.rint((a-mina)/step))\n",
    "        j = int(np.rint((o-mino)/step))\n",
    "        v3grid[k,i,j] = v\n",
    "    k = k + 1\n",
    "    \n",
    "xarr3d = xr.DataArray(\n",
    "        v3grid,\n",
    "        coords=(\n",
    "            depths,\n",
    "            np.linspace(mina, maxa, nlats), \n",
    "            np.linspace(mino, maxo, nlons)),\n",
    "        dims=('depth','latitude','longitude')\n",
    ")\n"
   ]
  },
  {
   "cell_type": "code",
   "execution_count": 7,
   "metadata": {},
   "outputs": [],
   "source": [
    "import matplotlib.pyplot as plt"
   ]
  },
  {
   "cell_type": "code",
   "execution_count": 10,
   "metadata": {},
   "outputs": [
    {
     "data": {
      "text/plain": [
       "(array([2.500000e+01, 1.400000e+02, 2.451000e+03, 2.000500e+04,\n",
       "        9.076560e+05, 3.245381e+06, 2.248800e+04, 4.660000e+02,\n",
       "        2.700000e+01, 1.000000e+01]),\n",
       " array([-20.2549953 , -16.23448082, -12.21396634,  -8.19345186,\n",
       "         -4.17293738,  -0.1524229 ,   3.86809158,   7.88860606,\n",
       "         11.90912054,  15.92963502,  19.9501495 ]),\n",
       " <BarContainer object of 10 artists>)"
      ]
     },
     "execution_count": 10,
     "metadata": {},
     "output_type": "execute_result"
    },
    {
     "data": {
      "image/png": "[encoded data removed]",
      "text/plain": [
       "<Figure size 432x288 with 1 Axes>"
      ]
     },
     "metadata": {
      "needs_background": "light"
     },
     "output_type": "display_data"
    }
   ],
   "source": [
    "plt.hist(xarr3d.data.flatten())"
   ]
  },
  {
   "cell_type": "code",
   "execution_count": 11,
   "metadata": {},
   "outputs": [],
   "source": [
    "v3grid = np.zeros((ndepths,nlats,nlons))\n",
    "k = 0\n",
    "for depth in depths:\n",
    "    zfile = 'za'+str(depth)\n",
    "    longitudes, latitudes, values = np.loadtxt(zfile,unpack=True)\n",
    "    for o,a,v in zip(longitudes, latitudes, values):\n",
    "        i = int(np.rint((a-mina)/step))\n",
    "        j = int(np.rint((o-mino)/step))\n",
    "        v3grid[k,i,j] = v\n",
    "    k = k + 1\n",
    "\n",
    "xara3d = xr.DataArray(\n",
    "        v3grid,\n",
    "        coords=(\n",
    "            depths,\n",
    "            np.linspace(mina, maxa, nlats), \n",
    "            np.linspace(mino, maxo, nlons)),\n",
    "        dims=('depth','latitude','longitude')\n",
    ")\n",
    "\n"
   ]
  },
  {
   "cell_type": "code",
   "execution_count": 12,
   "metadata": {},
   "outputs": [
    {
     "data": {
      "text/plain": [
       "(array([1.000000e+02, 8.144000e+03, 4.052680e+05, 1.463861e+06,\n",
       "        1.496710e+05, 4.321490e+05, 1.468650e+05, 1.483080e+05,\n",
       "        7.769680e+05, 6.673150e+05]),\n",
       " array([3.58008051, 3.88823247, 4.19638443, 4.50453639, 4.81268835,\n",
       "        5.12084031, 5.42899227, 5.73714423, 6.04529619, 6.35344815,\n",
       "        6.66160011]),\n",
       " <BarContainer object of 10 artists>)"
      ]
     },
     "execution_count": 12,
     "metadata": {},
     "output_type": "execute_result"
    },
    {
     "data": {
      "image/png": "[encoded data removed]",
      "text/plain": [
       "<Figure size 432x288 with 1 Axes>"
      ]
     },
     "metadata": {
      "needs_background": "light"
     },
     "output_type": "display_data"
    }
   ],
   "source": [
    "plt.hist(xara3d.data.flatten())"
   ]
  },
  {
   "cell_type": "code",
   "execution_count": 13,
   "metadata": {},
   "outputs": [],
   "source": [
    "x3dset = xr.Dataset(data_vars={'vs':xara3d, 'dvs':xarr3d},\n",
    "                    #coords={'depth':depths, 'latitude':np.linspace(mina, maxa, nlats), 'longitude':np.linspace(mino, maxo, nlons)},\n",
    "                    attrs=metadata)\n",
    "\n",
    "\n",
    "#x3dset['VS'] = xara3d\n",
    "#x3dset['VS_percent_change'] = xarr3d\n"
   ]
  },
  {
   "cell_type": "code",
   "execution_count": 14,
   "metadata": {},
   "outputs": [],
   "source": [
    "x3dset.to_netcdf('NA13.nc')"
   ]
  },
  {
   "cell_type": "code",
   "execution_count": null,
   "metadata": {},
   "outputs": [],
   "source": []
  }
 ],
 "metadata": {
  "kernelspec": {
   "display_name": "Python 3 (ipykernel)",
   "language": "python",
   "name": "python3"
  },
  "language_info": {
   "codemirror_mode": {
    "name": "ipython",
    "version": 3
   },
   "file_extension": ".py",
   "mimetype": "text/x-python",
   "name": "python",
   "nbconvert_exporter": "python",
   "pygments_lexer": "ipython3",
   "version": "3.9.7"
  }
 },
 "nbformat": 4,
 "nbformat_minor": 4
}
